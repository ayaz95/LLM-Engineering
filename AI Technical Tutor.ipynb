{
 "cells": [
  {
   "cell_type": "code",
   "execution_count": 41,
   "id": "5a5d874b-2c15-4e2e-bb81-4a48d6493e74",
   "metadata": {},
   "outputs": [],
   "source": [
    "## Importing libraries \n",
    "\n",
    "import os\n",
    "import json\n",
    "from typing import List\n",
    "from dotenv import load_dotenv\n",
    "from IPython.display import Markdown, display, update_display\n",
    "from openai import OpenAI"
   ]
  },
  {
   "cell_type": "code",
   "execution_count": 42,
   "id": "95478b27-8843-4388-9fd8-14efcbdcd218",
   "metadata": {},
   "outputs": [
    {
     "name": "stdout",
     "output_type": "stream",
     "text": [
      "API key looks good to me\n"
     ]
    }
   ],
   "source": [
    "### Initialize and Constant \n",
    "\n",
    "load_dotenv()\n",
    "api_key = os.getenv('OPEN_API_KEY')\n",
    "\n",
    "\n",
    "if api_key and api_key[:8] == 'sk-proj-':\n",
    "    print(\"API key looks good to me\")\n",
    "else:\n",
    "    print(\"There might be a problem with API key\")\n",
    "\n",
    "MODEL = 'gpt-4o-mini'\n",
    "openai = OpenAI(api_key=api_key)"
   ]
  },
  {
   "cell_type": "code",
   "execution_count": 43,
   "id": "d125378c-c0b8-4ac6-8a9d-5e42bd59e293",
   "metadata": {},
   "outputs": [],
   "source": [
    "## Function for user prompt\n",
    "\n",
    "def get_answer(my_question):\n",
    "    user_prompt = f\"You are solving the techincal problem provided by the user which is {my_question}\"\n",
    "    user_prompt += f\"Provide him the answer using your technical ability\"\n",
    "    return user_prompt"
   ]
  },
  {
   "cell_type": "code",
   "execution_count": 44,
   "id": "d0c79c9e-3799-4c63-9088-9a46ce82f2ca",
   "metadata": {},
   "outputs": [],
   "source": [
    "## Defined System prompt\n",
    "\n",
    "system_prompt = \"You are a AI technical tutor with extensive expertise. \\\n",
    "Your goal is to help users understand and solve technical problems, focusing on the AI.\""
   ]
  },
  {
   "cell_type": "code",
   "execution_count": 45,
   "id": "1ba3a15e-96f1-47cf-81fd-3e19d34d31ef",
   "metadata": {},
   "outputs": [],
   "source": [
    "## Function to call openai model and store the response\n",
    "\n",
    "def answer_question(user_input):\n",
    "    #my_question = Questions(question_text = user_input)\n",
    "    response = openai.chat.completions.create(\n",
    "        model=MODEL,\n",
    "        messages = [\n",
    "            {\"role\":\"system\", \"content\":system_prompt},\n",
    "            {\"role\":\"user\", \"content\":get_answer(user_input)}\n",
    "        ])\n",
    "    result = response.choices[0].message.content\n",
    "    display(Markdown(result))"
   ]
  },
  {
   "cell_type": "code",
   "execution_count": 46,
   "id": "6536f7da-7d17-490b-950f-51e79aea1ab1",
   "metadata": {
    "scrolled": true
   },
   "outputs": [
    {
     "name": "stdin",
     "output_type": "stream",
     "text": [
      "Please enter your question What is an AI?\n"
     ]
    },
    {
     "data": {
      "text/markdown": [
       "Certainly! \n",
       "\n",
       "**What is Artificial Intelligence (AI)?**\n",
       "\n",
       "Artificial Intelligence (AI) is a branch of computer science that focuses on creating systems or machines capable of performing tasks that typically require human intelligence. These tasks may include logical reasoning, problem-solving, understanding natural language, recognizing patterns, learning from experience, and making decisions.\n",
       "\n",
       "**Key Areas of AI:**\n",
       "\n",
       "1. **Machine Learning (ML):** This is a subset of AI that involves training algorithms to learn from and make predictions or decisions based on data without being explicitly programmed for specific tasks. There are various types of ML, including supervised learning, unsupervised learning, and reinforcement learning.\n",
       "\n",
       "2. **Natural Language Processing (NLP):** This area focuses on the interaction between computers and humans through natural language. The goal is to enable machines to understand, interpret, and generate human language in a way that is both meaningful and useful.\n",
       "\n",
       "3. **Computer Vision:** This field allows machines to interpret and make decisions based on visual data from the world, like images and videos. It includes tasks such as image recognition, segmentation, and object detection.\n",
       "\n",
       "4. **Robotics:** AI is integral in enabling robots to perform tasks autonomously or semi-autonomously. This includes navigation, manipulation of objects, and interaction with environments and humans.\n",
       "\n",
       "5. **Expert Systems:** These are AI systems that emulate the decision-making ability of a human expert. They are designed to solve specific problems by reasoning through bodies of knowledge, represented mainly as if-then rules.\n",
       "\n",
       "**Applications of AI:**\n",
       "\n",
       "- **Healthcare:** AI is used for diagnostic tools, personalized medicine, and robotic surgeries.\n",
       "- **Finance:** Applications include fraud detection, algorithmic trading, and risk assessment.\n",
       "- **Transportation:** AI powers autonomous vehicles and traffic management systems.\n",
       "- **Customer Service:** AI chatbots and virtual assistants enhance customer support and engagement.\n",
       "- **Entertainment:** AI algorithms recommend music, movies, and games based on user preferences.\n",
       "\n",
       "**Conclusion:**\n",
       "\n",
       "In essence, AI aims to create systems that can perform tasks that require cognitive functions, with the potential to improve efficiency, accuracy, and scalability in various applications. The field is rapidly evolving, with ongoing research driving advancements in AI capabilities and applications."
      ],
      "text/plain": [
       "<IPython.core.display.Markdown object>"
      ]
     },
     "metadata": {},
     "output_type": "display_data"
    }
   ],
   "source": [
    "## Calling input function and asking user to provide an input\n",
    "\n",
    "user_input = input(\"Please enter your question\")\n",
    "\n",
    "answer_question(user_input)"
   ]
  },
  {
   "cell_type": "code",
   "execution_count": null,
   "id": "52d46b63-36dd-4673-aed4-acb15068c636",
   "metadata": {},
   "outputs": [],
   "source": []
  }
 ],
 "metadata": {
  "kernelspec": {
   "display_name": "Python 3 (ipykernel)",
   "language": "python",
   "name": "python3"
  },
  "language_info": {
   "codemirror_mode": {
    "name": "ipython",
    "version": 3
   },
   "file_extension": ".py",
   "mimetype": "text/x-python",
   "name": "python",
   "nbconvert_exporter": "python",
   "pygments_lexer": "ipython3",
   "version": "3.11.13"
  }
 },
 "nbformat": 4,
 "nbformat_minor": 5
}
