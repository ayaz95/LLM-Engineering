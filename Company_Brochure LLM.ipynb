{
 "cells": [
  {
   "cell_type": "markdown",
   "id": "31d79fbc-b925-4726-983a-2ec33993e5ec",
   "metadata": {},
   "source": [
    "### Business Problem \n",
    "\n",
    "Create a product that builds a brochure for a company that can be used for prospective clients, investors \\\n",
    "and potential recruits\n",
    "\n",
    "Input - Will be company name and website "
   ]
  },
  {
   "cell_type": "code",
   "execution_count": 5,
   "id": "fc1c95a1-5a4a-445d-9137-c5ecfbfe4bc1",
   "metadata": {},
   "outputs": [],
   "source": [
    "## Importing libraries \n",
    "\n",
    "import os\n",
    "import requests\n",
    "import json\n",
    "from typing import List\n",
    "from dotenv import load_dotenv\n",
    "from bs4 import BeautifulSoup\n",
    "from IPython.display import Markdown, display, update_display\n",
    "from openai import OpenAI"
   ]
  },
  {
   "cell_type": "code",
   "execution_count": 13,
   "id": "e77ac8a2-ecff-4653-bbc3-a7e97737da0a",
   "metadata": {},
   "outputs": [
    {
     "name": "stdout",
     "output_type": "stream",
     "text": [
      "API key looks good to me\n"
     ]
    }
   ],
   "source": [
    "### Initialize and constants \n",
    "\n",
    "## when you call load_dotenv(), it searches for a .env file (by default in the same directory as your script), reads key-value pairs from that file\n",
    "load_dotenv()\n",
    "api_key = os.getenv('OPEN_API_KEY')\n",
    "\n",
    "\n",
    "if api_key and api_key[:8] == 'sk-proj-':\n",
    "    print(\"API key looks good to me\")\n",
    "else:\n",
    "    print(\"There might be a problem with API key\")\n",
    "\n",
    "MODEL = 'gpt-4o-mini'\n",
    "openai = OpenAI(api_key=api_key)\n"
   ]
  },
  {
   "cell_type": "code",
   "execution_count": 20,
   "id": "24b9ded8-777c-43f3-ade5-df08e6163eee",
   "metadata": {},
   "outputs": [],
   "source": [
    "class Website:\n",
    "    \"\"\"\n",
    "    Class that represent website that is scraped with links\n",
    "    \"\"\"\n",
    "    url:str\n",
    "    title:str\n",
    "    body:str\n",
    "    links: List[str]\n",
    "    text:str\n",
    "\n",
    "\n",
    "    def __init__(self, url):\n",
    "        self.url = url\n",
    "        response = requests.get(url)\n",
    "        self.body = response.content\n",
    "        soup = BeautifulSoup(self.body, 'html.parser')\n",
    "        self.title = soup.title.string if soup.title else \"No title found\"\n",
    "\n",
    "        if soup.body:\n",
    "            for irrelevant in soup.body([\"script\", \"style\", \"img\", \"input\"]):\n",
    "                irrelevant.decompose()\n",
    "            self.text = soup.body.get_text(separator=\"\\n\", strip=True)\n",
    "        else:\n",
    "            self.text = \"\"\n",
    "        links = [link.get('href') for link in soup.find_all('a')]\n",
    "        self.links = [link for link in links if link]\n",
    "\n",
    "    def get_contents(self):\n",
    "        return f\"Webpage Title:\\n{self.title}\\nWebpage Contents:\\n{self.text}\\n\\n\"\n",
    "    \n",
    "    "
   ]
  },
  {
   "cell_type": "code",
   "execution_count": 22,
   "id": "31f71e12-32d7-4462-b161-3b0167c7ee85",
   "metadata": {},
   "outputs": [
    {
     "name": "stdout",
     "output_type": "stream",
     "text": [
      "['/credit-cards/', '/personal-loan', 'https://loans.portal.latitudefinancial.com.au/s/quote', 'https://www.latitudefinancial.com.au/credit-cards/28-degrees/', 'https://loans.portal.latitudefinancial.com.au/s/quote', 'https://www.latitudefinancial.com.au/credit-cards/28-degrees/', '/personal-loan-repayment-calculator/', '/budget-planner/', 'https://www.latitudefinancial.com.au/interest-free/find-a-store/', '/car-loan/', '/debt-consolidation-loans/', '/home-renovation-loans/', '/credit-cards/', 'https://latitudefs.zendesk.com/hc/en-au', 'https://www.creditsmart.org.au/', '/hardship-care/', '/digital-wallets/apple-pay/', '/vulnerable-customers/']\n"
     ]
    }
   ],
   "source": [
    "latitude = Website(\"https://www.latitudefinancial.com.au/\")\n",
    "\n",
    "print(latitude.links)"
   ]
  },
  {
   "cell_type": "markdown",
   "id": "f796de5c-c0a1-40db-b8f2-53048f9cded1",
   "metadata": {},
   "source": [
    "## Ask gpt4-o-mini to figure out the links which are relevant\n",
    "\n",
    "#### As there are lots of links, it difficult to go through each one of them and find which link can contains the details we need for a brochure and some of the links can be just be a waste. "
   ]
  },
  {
   "cell_type": "code",
   "execution_count": 25,
   "id": "911c73ef-7d8c-41f8-a2bd-a81f33fa00d7",
   "metadata": {},
   "outputs": [],
   "source": [
    "## This is an example of oneshot prompting, because we have provided one example of how the output should look\n",
    "\n",
    "link_system_prompt = \"You are provided with a list of links found on a webpage. \\\n",
    "You are able to decide which of the links would be most relevant to include in a brochure about the company, \\\n",
    "such as links to an About Page, or a Company page, or Careers/Jobs pages. \\n\"\n",
    "\n",
    "link_system_prompt += \"You should respond in JSON in this example:\"\n",
    "\n",
    "link_system_prompt += \"\"\"\n",
    "{\n",
    "    \"links\": [\n",
    "        {\"type\":\"about page\", \"url\":\"https://www.latitudefinancial.com.au/about-us/\"},\n",
    "        {\"type\":\"\"careers page, \"url\":\"https://www.latitudefinancial.com.au/careers/\"}\n",
    "        ]\n",
    "    }\n",
    "\"\"\""
   ]
  },
  {
   "cell_type": "code",
   "execution_count": 26,
   "id": "6d33d92c-c9c3-4211-af9d-9db211cd7b8c",
   "metadata": {},
   "outputs": [
    {
     "name": "stdout",
     "output_type": "stream",
     "text": [
      "You are provided with a list of links found on a webpage. You are able to decide which of the links would be most relevant to include in a brochure about the company, such as links to an About Page, or a Company page, or Careers/Jobs pages. \n",
      "You should respond in JSON in this example:\n",
      "{\n",
      "    \"links\": [\n",
      "        {\"type\":\"about page\", \"url\":\"https://www.latitudefinancial.com.au/about-us/\"},\n",
      "        {\"type\":\"\"careers page, \"url\":\"https://www.latitudefinancial.com.au/careers/\"}\n",
      "        ]\n",
      "    }\n",
      "\n"
     ]
    }
   ],
   "source": [
    "print(link_system_prompt)"
   ]
  },
  {
   "cell_type": "code",
   "execution_count": 29,
   "id": "abacec00-48a5-4dc0-9c43-77b2cc1da5e5",
   "metadata": {},
   "outputs": [],
   "source": [
    "## User prompt\n",
    "\n",
    "def get_links_user_prompt(website):\n",
    "    user_prompt = f\"Here is the list of links on the website of {website.url} - \"\n",
    "    user_prompt += \"Please decide which of these links are relevant to be included in the brochure of the \\\n",
    "    company, respond will the full https URL. Don't include Terms of Services, Privacy, email links. \\n\"\n",
    "\n",
    "    user_prompt += \"Links (some might be relative links): \\n\"\n",
    "    user_prompt += \"\\n\".join(website.links)\n",
    "    return user_prompt"
   ]
  },
  {
   "cell_type": "code",
   "execution_count": 30,
   "id": "2b1d41b0-1028-49f7-a54e-ce632a0961f8",
   "metadata": {},
   "outputs": [
    {
     "name": "stdout",
     "output_type": "stream",
     "text": [
      "Here is the list of links on the website of https://www.latitudefinancial.com.au/ - Please decide which of these links are relevant to be included in the brochure of the     company, respond will the full https URL. Don't include Terms of Services, Privacy, email links. \n",
      "Links (some might be relative links): \n",
      "/credit-cards/\n",
      "/personal-loan\n",
      "https://loans.portal.latitudefinancial.com.au/s/quote\n",
      "https://www.latitudefinancial.com.au/credit-cards/28-degrees/\n",
      "https://loans.portal.latitudefinancial.com.au/s/quote\n",
      "https://www.latitudefinancial.com.au/credit-cards/28-degrees/\n",
      "/personal-loan-repayment-calculator/\n",
      "/budget-planner/\n",
      "https://www.latitudefinancial.com.au/interest-free/find-a-store/\n",
      "/car-loan/\n",
      "/debt-consolidation-loans/\n",
      "/home-renovation-loans/\n",
      "/credit-cards/\n",
      "https://latitudefs.zendesk.com/hc/en-au\n",
      "https://www.creditsmart.org.au/\n",
      "/hardship-care/\n",
      "/digital-wallets/apple-pay/\n",
      "/vulnerable-customers/\n"
     ]
    }
   ],
   "source": [
    "print(get_links_user_prompt(latitude))"
   ]
  },
  {
   "cell_type": "code",
   "execution_count": 35,
   "id": "f7906221-a925-49b8-8d20-74f6b319ea80",
   "metadata": {},
   "outputs": [],
   "source": [
    "## Calling OpenAI \n",
    "\n",
    "def get_link(url):\n",
    "    website = Website(url)\n",
    "    response = openai.chat.completions.create(\n",
    "        model=MODEL,\n",
    "        messages=[\n",
    "            {\"role\":\"system\", \"content\":link_system_prompt},\n",
    "            {\"role\":\"user\", \"content\": get_links_user_prompt(website)}\n",
    "        ],\n",
    "            response_format={\"type\": \"json_object\"}\n",
    "    )\n",
    "\n",
    "    result = response.choices[0].message.content\n",
    "    return json.loads(result)"
   ]
  },
  {
   "cell_type": "code",
   "execution_count": 36,
   "id": "21008370-1edb-401f-b8fd-95ff285ec12d",
   "metadata": {},
   "outputs": [
    {
     "data": {
      "text/plain": [
       "{'links': [{'type': 'about page',\n",
       "   'url': 'https://www.latitudefinancial.com.au/about-us/'},\n",
       "  {'type': 'careers page',\n",
       "   'url': 'https://www.latitudefinancial.com.au/careers/'}]}"
      ]
     },
     "execution_count": 36,
     "metadata": {},
     "output_type": "execute_result"
    }
   ],
   "source": [
    "get_link(\"https://www.latitudefinancial.com.au/\")"
   ]
  },
  {
   "cell_type": "code",
   "execution_count": 37,
   "id": "f2c39b86-3718-4dd1-a82e-5767fc4e0cef",
   "metadata": {},
   "outputs": [
    {
     "data": {
      "text/plain": [
       "{'links': [{'type': 'about page', 'url': 'https://www.anthropic.com/company'},\n",
       "  {'type': 'careers page', 'url': 'https://www.anthropic.com/careers'},\n",
       "  {'type': 'team page', 'url': 'https://www.anthropic.com/team'},\n",
       "  {'type': 'news page', 'url': 'https://www.anthropic.com/news'},\n",
       "  {'type': 'events page', 'url': 'https://www.anthropic.com/events'},\n",
       "  {'type': 'research page', 'url': 'https://www.anthropic.com/research'}]}"
      ]
     },
     "execution_count": 37,
     "metadata": {},
     "output_type": "execute_result"
    }
   ],
   "source": [
    "get_link(\"https://www.anthropic.com\")"
   ]
  },
  {
   "cell_type": "markdown",
   "id": "3e82f319-8b9a-4833-97c4-9652d26316e9",
   "metadata": {},
   "source": [
    "## Make the Brochure"
   ]
  },
  {
   "cell_type": "code",
   "execution_count": 48,
   "id": "c77f523e-ae55-4820-ad52-c645dc3cd409",
   "metadata": {},
   "outputs": [],
   "source": [
    "def get_all_the_details(url):\n",
    "    result = \"Landing page: \\n\"\n",
    "    result += Website(url).get_contents()\n",
    "    links = get_link(url)\n",
    "    print(\"Found Links:\" , links)\n",
    "    for link in links[\"links\"]:\n",
    "        result += f\"\\n\\n{link['type']}\\n\"\n",
    "        result += Website(link[\"url\"]).get_contents()\n",
    "    return result"
   ]
  },
  {
   "cell_type": "code",
   "execution_count": 49,
   "id": "cd43fcd6-445c-4df8-b6ca-66fe2b47e1db",
   "metadata": {},
   "outputs": [
    {
     "name": "stdout",
     "output_type": "stream",
     "text": [
      "Found Links: {'links': [{'type': 'about page', 'url': 'https://www.latitudefinancial.com.au/about-us/'}, {'type': 'careers page', 'url': 'https://www.latitudefinancial.com.au/careers/'}]}\n",
      "Landing page: \n",
      "Webpage Title:\n",
      "Credit Cards & Personal Loans Australia | Apply With Latitude\n",
      "Webpage Contents:\n",
      "Home\n",
      "For life’s moments big and small\n",
      "As your Partners in Money, our attitude is to be responsible, fast and always ready to help. So, what are you looking for today?\n",
      "Credit Cards\n",
      "Personal Loans\n",
      "Check your Personal Loan interest rate in 2 mins.\n",
      "With no impact to your credit score.\n",
      "Get Rate Estimate\n",
      "Get $200 bonus Latitude Rewards\n",
      "When you spend $2000 on your Latitude 28º Mastercard every statement period in your first 3 months of approval.\n",
      "Learn more\n",
      "T&Cs, card fee and other charges apply. New and approved customers only. Offer ends 31 Dec 2024.\n",
      "Check your Personal Loan interest rate in 2 mins.\n",
      "With no impact to your credit score.\n",
      "Get Rate Estimate\n",
      "Get $200 bonus Latitude Rewards\n",
      "When you spend $2000 on your Latitude 28º Mastercard every statement period in your first 3 months of approval.\n",
      "Learn more\n",
      "T&Cs, card fee and other charges apply. New and approved customers only. Offer ends 31 Dec 2024.\n",
      "At Latitude, we’re your Partners in Money, we make it possible with financing solutions in the moments that matter\n",
      "Trusted by millions\n",
      "Over 2.1 million customers across Australia and New Zealand\n",
      "Award-winning products\n",
      "Winner of WeMoney’s Best in Flexibility award 2 years running for Personal Loans\n",
      "Long standing support\n",
      "Helping Australians manage their finances for nearly a century\n",
      "Calculators\n",
      "Personal loan repayment calculator\n",
      "Budget planner\n",
      "Shop interest free from our retailers\n",
      "Check out our full list of retailers\n",
      "What’s important to you?\n",
      "Previous\n",
      "Buying that new car\n",
      "Better comfort, better kerb appeal. Discover our car loans.\n",
      "Learn more\n",
      "Consolidating your debts\n",
      "It’s time to take control and get your life back.\n",
      "Learn more\n",
      "Renovation\n",
      "Build that dream kitchen, or entertain on your new deck. Turn your house into a home.\n",
      "Learn more\n",
      "Shop Interest Free\n",
      "Choose a Latitude credit card for flexibility and access to our Interest Free deals.\n",
      "Learn more\n",
      "Next\n",
      "1\n",
      "2\n",
      "3\n",
      "4\n",
      "Let's Explore\n",
      "help_centre_faq_200px\n",
      "Help Centre\n",
      "For FAQs, useful information and quick and easy forms.\n",
      "Learn more\n",
      "creditsmart_200px\n",
      "CreditSmart\n",
      "Find out more about credit reporting.\n",
      "Learn more\n",
      "Hardship Care\n",
      "If you're struggling with your repayments, we're here to help.\n",
      "Learn more\n",
      "Digital wallets\n",
      "Any mobile. Any wearable. Including Apple Pay and Samsung Pay.\n",
      "Learn more\n",
      "Need an Interpreter?\n",
      "We can arrange one for you at no additional cost (Language Loop service is subject to availability).\n",
      "Vulnerable customers\n",
      "Providing you with care and support when you need it.\n",
      "Learn more\n",
      "1\n",
      "2\n",
      "3\n",
      "Why partner with Latitude?\n",
      "Easy\n",
      "We hear you, big-time. You want easy. Let’s start with easy application, rapid response, flexible repayments, and oh-so-simple account monitoring. Online and on your mobile.\n",
      "Nothing hidden\n",
      "See all the interest rates and fees up front. No tricky finance talk. Just clear and open, always.\n",
      "Everyone’s included\n",
      "We’re all different, so it makes sense to assess applications individually. That’s why we tailor our rates based on your circumstances.\n",
      "Let’s work together\n",
      "We get it. Borrowing money is a big deal for everyone so we’re here as your money-partners, finding the best way to make it happen. And when life changes, we’ll help work it out together.\n",
      "\n",
      "\n",
      "\n",
      "about page\n",
      "Webpage Title:\n",
      "About Us | Latitude Financial\n",
      "Webpage Contents:\n",
      "Home\n",
      "About Us\n",
      "About Us\n",
      "Latitude is a leading sales finance and consumer lending business that helps people shop and finance their lives\n",
      "Our Company\n",
      "Careers\n",
      "Corporate Responsibility\n",
      "Investor Relations\n",
      "News Room\n",
      "Our Company\n",
      "Our Story\n",
      "In a pinstriped world of finance, we do things a little different.\n",
      "Find out more\n",
      "Our Values\n",
      "Principles that define how we connect with our customers and each other.\n",
      "Find out more\n",
      "Leadership Team\n",
      "Say hello to the team leading the way at Latitude.\n",
      "Meet our team\n",
      "View all Latitude products\n",
      "Find out more\n",
      "Corporate Responsibility\n",
      "Partners in the Community\n",
      "Latitude Giving\n",
      "Supporting Vulnerable Customers\n",
      "Investor Relations\n",
      "Financial information for shareholders\n",
      "For the latest information visit our Investor Centre.\n",
      "Find out more\n",
      "Join the team\n",
      "We hire the best people aligned with our values, we build strong and lasting partnerships and we put the customer at the heart of everything.\n",
      "Join the team\n",
      "In the Media\n",
      "Visit our news room to view our latest media releases and stories.\n",
      "View All\n",
      "For media and journalist enquiries only.\n",
      "media.enquiries@latitudefinancial.com\n",
      "\n",
      "\n",
      "\n",
      "careers page\n",
      "Webpage Title:\n",
      "Careers | Latitude Financial - Latitude Financial Services\n",
      "Webpage Contents:\n",
      "Home\n",
      "Let's Work Together\n",
      "We’ve set our sights on helping people from all walks of life to shop and live better. So, if you’re someone who wants to do amazing work and has a strong desire to make a difference, we’d love to chat.\n",
      "Why Latitude\n",
      "Life @ Latitude\n",
      "Find a career\n",
      "Join the team\n",
      "Why Latitude\n",
      "We're obsessed by better outcomes every day, for our people, customers, partners and the communities in which we work.\n",
      "Our people are passionate about what they do, they are advocates who work with all areas of the business to drive new ways of thinking, they push the limits of what’s possible and inspire others with new ideas.\n",
      "Joining Latitude, you’ll be part of the driving force building those intuitive and next-level customer experiences.\n",
      "Explore Opportunities\n",
      "Our values\n",
      "Our values guide our actions and decisions, ensuring we deliver the best outcomes ​for our customers, partners, each other and for Latitude.\n",
      "We step into challenges, execute with grit and take accountability.\n",
      "We act with integrity to deliver high quality outcomes.\n",
      "We seek different perspectives and unify as one company to win in the market.\n",
      "We think boldly and adapt with agility to innovate and shape the future.\n",
      "Our story\n",
      "Latitude has a long history of over 100 years dating back to the 1920s when Australian Guarantee Corporation ('AGC'), one of Latitude's predecessor businesses, was founded to provide finance for the purchase of household items. Latitude's history traces back to a range of acquisitions made by GE in Australia and New Zealand, including Nissan Finance, AVCO Financial (including Hallmark Insurance) and AGC.\n",
      "In 2015, backed by Värde Partners, KKR and Deutsche Bank, we transitioned from GE into what we are today — a leading consumer lender called Latitude.\n",
      "In April 2021, Latitude listed on the Australian Stock Exchange. In late 2021, Latitude acquired Symple Loans, a Melbourne-based personal lending fintech.\n",
      "Find a career\n",
      "Find a new career - start the search now.\n",
      "Join the Team\n",
      "Life @ Latitude\n",
      "Latitude is the scope for freedom of action or thought.\n",
      "It allows you to define your own path!\n",
      "What if you could BE YOU?\n",
      "What if you could BE BETTER?\n",
      "What if you could BE OUR FUTURE?\n",
      "Be YOU\n",
      "We want you to bring your whole self, the authentic YOU without fear of judgement. Be part of a culture that embraces your can-do attitude, that gives you the freedom and flexibility to unleash your creative genius and make it happen. When you achieve you will be rewarded and recognised for your efforts.\n",
      "Be BETTER\n",
      "We want you to be BETTER at everything you do! Set high standards and be passionate about achieving  extraordinary customer outcomes. Take charge of your own development and encourage others to develop and never stop learning. Most important, be brave and be better, look outwards and lead the way to the future. Be curious and prepared to learn and be challenged every day!\n",
      "Be OUR FUTURE\n",
      "Help us build OUR FUTURE by spending time on meaningful work - reimagining opportunities for our customers, creating something bigger and better. We are big enough to make an impact in the market place and small enough to be nimble and courageous. We are encouraged to take risks where we succeed or we fail, but it is our customer obsession and our curiosity that keeps the magic happening.\n",
      "Our benefits\n",
      "Health and Wellbeing\n",
      "Grow & Develop\n",
      "Money Saving\n",
      "Flexibility\n",
      "Celebrate and Reward\n",
      "\n",
      "\n"
     ]
    }
   ],
   "source": [
    "print(get_all_the_details(\"https://www.latitudefinancial.com.au/\"))"
   ]
  },
  {
   "cell_type": "code",
   "execution_count": 50,
   "id": "167cba63-403f-41f0-9cfa-9525eebddeea",
   "metadata": {},
   "outputs": [],
   "source": [
    "system_prompt = \"You are an assistant that analyzes the contents of several relevant pages from a company website \\\n",
    "and creates a short brochure about the company for prospective customers, investors and recruits. Respond in markdown.\\\n",
    "Include details of company culture, customers and careers/jobs if you have the information.\""
   ]
  },
  {
   "cell_type": "code",
   "execution_count": 51,
   "id": "0e5e7f1a-8e40-48b1-925b-bacb082b4162",
   "metadata": {},
   "outputs": [],
   "source": [
    "## \n",
    "\n",
    "def get_brochure_user_prompt(company_name, url):\n",
    "    user_prompt = f\"You are looking for a company called: {company_name}\\n\"\n",
    "    user_prompt += f\"Here are the contents of its landing page and other relevant pages; use this information to build a short brochure of the company in markdown.\\n\"\n",
    "    user_prompt += get_all_the_details(url)\n",
    "    user_prompt = user_prompt[:20000]\n",
    "    return user_prompt"
   ]
  },
  {
   "cell_type": "code",
   "execution_count": 52,
   "id": "dcb537bd-e879-4882-b885-663321adc0c7",
   "metadata": {},
   "outputs": [
    {
     "name": "stdout",
     "output_type": "stream",
     "text": [
      "Found Links: {'links': [{'type': 'about page', 'url': 'https://www.latitudefinancial.com.au/about-us/'}, {'type': 'careers page', 'url': 'https://www.latitudefinancial.com.au/careers/'}]}\n"
     ]
    },
    {
     "data": {
      "text/plain": [
       "\"You are looking for a company called: Latitude Financial Services\\nHere are the contents of its landing page and other relevant pages; use this information to build a short brochure of the company in markdown.\\nLanding page: \\nWebpage Title:\\nCredit Cards & Personal Loans Australia | Apply With Latitude\\nWebpage Contents:\\nHome\\nFor life’s moments big and small\\nAs your Partners in Money, our attitude is to be responsible, fast and always ready to help. So, what are you looking for today?\\nCredit Cards\\nPersonal Loans\\nCheck your Personal Loan interest rate in 2 mins.\\nWith no impact to your credit score.\\nGet Rate Estimate\\nGet $200 bonus Latitude Rewards\\nWhen you spend $2000 on your Latitude 28º Mastercard every statement period in your first 3 months of approval.\\nLearn more\\nT&Cs, card fee and other charges apply. New and approved customers only. Offer ends 31 Dec 2024.\\nCheck your Personal Loan interest rate in 2 mins.\\nWith no impact to your credit score.\\nGet Rate Estimate\\nGet $200 bonus Latitude Rewards\\nWhen you spend $2000 on your Latitude 28º Mastercard every statement period in your first 3 months of approval.\\nLearn more\\nT&Cs, card fee and other charges apply. New and approved customers only. Offer ends 31 Dec 2024.\\nAt Latitude, we’re your Partners in Money, we make it possible with financing solutions in the moments that matter\\nTrusted by millions\\nOver 2.1 million customers across Australia and New Zealand\\nAward-winning products\\nWinner of WeMoney’s Best in Flexibility award 2 years running for Personal Loans\\nLong standing support\\nHelping Australians manage their finances for nearly a century\\nCalculators\\nPersonal loan repayment calculator\\nBudget planner\\nShop interest free from our retailers\\nCheck out our full list of retailers\\nWhat’s important to you?\\nPrevious\\nBuying that new car\\nBetter comfort, better kerb appeal. Discover our car loans.\\nLearn more\\nConsolidating your debts\\nIt’s time to take control and get your life back.\\nLearn more\\nRenovation\\nBuild that dream kitchen, or entertain on your new deck. Turn your house into a home.\\nLearn more\\nShop Interest Free\\nChoose a Latitude credit card for flexibility and access to our Interest Free deals.\\nLearn more\\nNext\\n1\\n2\\n3\\n4\\nLet's Explore\\nhelp_centre_faq_200px\\nHelp Centre\\nFor FAQs, useful information and quick and easy forms.\\nLearn more\\ncreditsmart_200px\\nCreditSmart\\nFind out more about credit reporting.\\nLearn more\\nHardship Care\\nIf you're struggling with your repayments, we're here to help.\\nLearn more\\nDigital wallets\\nAny mobile. Any wearable. Including Apple Pay and Samsung Pay.\\nLearn more\\nNeed an Interpreter?\\nWe can arrange one for you at no additional cost (Language Loop service is subject to availability).\\nVulnerable customers\\nProviding you with care and support when you need it.\\nLearn more\\n1\\n2\\n3\\nWhy partner with Latitude?\\nEasy\\nWe hear you, big-time. You want easy. Let’s start with easy application, rapid response, flexible repayments, and oh-so-simple account monitoring. Online and on your mobile.\\nNothing hidden\\nSee all the interest rates and fees up front. No tricky finance talk. Just clear and open, always.\\nEveryone’s included\\nWe’re all different, so it makes sense to assess applications individually. That’s why we tailor our rates based on your circumstances.\\nLet’s work together\\nWe get it. Borrowing money is a big deal for everyone so we’re here as your money-partners, finding the best way to make it happen. And when life changes, we’ll help work it out together.\\n\\n\\n\\nabout page\\nWebpage Title:\\nAbout Us | Latitude Financial\\nWebpage Contents:\\nHome\\nAbout Us\\nAbout Us\\nLatitude is a leading sales finance and consumer lending business that helps people shop and finance their lives\\nOur Company\\nCareers\\nCorporate Responsibility\\nInvestor Relations\\nNews Room\\nOur Company\\nOur Story\\nIn a pinstriped world of finance, we do things a little different.\\nFind out more\\nOur Values\\nPrinciples that define how we connect with our customers and each other.\\nFind out more\\nLeadership Team\\nSay hello to the team leading the way at Latitude.\\nMeet our team\\nView all Latitude products\\nFind out more\\nCorporate Responsibility\\nPartners in the Community\\nLatitude Giving\\nSupporting Vulnerable Customers\\nInvestor Relations\\nFinancial information for shareholders\\nFor the latest information visit our Investor Centre.\\nFind out more\\nJoin the team\\nWe hire the best people aligned with our values, we build strong and lasting partnerships and we put the customer at the heart of everything.\\nJoin the team\\nIn the Media\\nVisit our news room to view our latest media releases and stories.\\nView All\\nFor media and journalist enquiries only.\\nmedia.enquiries@latitudefinancial.com\\n\\n\\n\\ncareers page\\nWebpage Title:\\nCareers | Latitude Financial - Latitude Financial Services\\nWebpage Contents:\\nHome\\nLet's Work Together\\nWe’ve set our sights on helping people from all walks of life to shop and live better. So, if you’re someone who wants to do amazing work and has a strong desire to make a difference, we’d love to chat.\\nWhy Latitude\\nLife @ Latitude\\nFind a career\\nJoin the team\\nWhy Latitude\\nWe're obsessed by better outcomes every day, for our people, customers, partners and the communities in which we work.\\nOur people are passionate about what they do, they are advocates who work with all areas of the business to drive new ways of thinking, they push the limits of what’s possible and inspire others with new ideas.\\nJoining Latitude, you’ll be part of the driving force building those intuitive and next-level customer experiences.\\nExplore Opportunities\\nOur values\\nOur values guide our actions and decisions, ensuring we deliver the best outcomes \\u200bfor our customers, partners, each other and for Latitude.\\nWe step into challenges, execute with grit and take accountability.\\nWe act with integrity to deliver high quality outcomes.\\nWe seek different perspectives and unify as one company to win in the market.\\nWe think boldly and adapt with agility to innovate and shape the future.\\nOur story\\nLatitude has a long history of over 100 years dating back to the 1920s when Australian Guarantee Corporation ('AGC'), one of Latitude's predecessor businesses, was founded to provide finance for the purchase of household items. Latitude's history traces back to a range of acquisitions made by GE in Australia and New Zealand, including Nissan Finance, AVCO Financial (including Hallmark Insurance) and AGC.\\nIn 2015, backed by Värde Partners, KKR and Deutsche Bank, we transitioned from GE into what we are today — a leading consumer lender called Latitude.\\nIn April 2021, Latitude listed on the Australian Stock Exchange. In late 2021, Latitude acquired Symple Loans, a Melbourne-based personal lending fintech.\\nFind a career\\nFind a new career - start the search now.\\nJoin the Team\\nLife @ Latitude\\nLatitude is the scope for freedom of action or thought.\\nIt allows you to define your own path!\\nWhat if you could BE YOU?\\nWhat if you could BE BETTER?\\nWhat if you could BE OUR FUTURE?\\nBe YOU\\nWe want you to bring your whole self, the authentic YOU without fear of judgement. Be part of a culture that embraces your can-do attitude, that gives you the freedom and flexibility to unleash your creative genius and make it happen. When you achieve you will be rewarded and recognised for your efforts.\\nBe BETTER\\nWe want you to be BETTER at everything you do! Set high standards and be passionate about achieving  extraordinary customer outcomes. Take charge of your own development and encourage others to develop and never stop learning. Most important, be brave and be better, look outwards and lead the way to the future. Be curious and prepared to learn and be challenged every day!\\nBe OUR FUTURE\\nHelp us build OUR FUTURE by spending time on meaningful work - reimagining opportunities for our customers, creating something bigger and better. We are big enough to make an impact in the market place and small enough to be nimble and courageous. We are encouraged to take risks where we succeed or we fail, but it is our customer obsession and our curiosity that keeps the magic happening.\\nOur benefits\\nHealth and Wellbeing\\nGrow & Develop\\nMoney Saving\\nFlexibility\\nCelebrate and Reward\\n\\n\""
      ]
     },
     "execution_count": 52,
     "metadata": {},
     "output_type": "execute_result"
    }
   ],
   "source": [
    "get_brochure_user_prompt(\"Latitude Financial Services\", \"https://www.latitudefinancial.com.au/\")"
   ]
  },
  {
   "cell_type": "code",
   "execution_count": 53,
   "id": "2a4a925a-8881-4723-93c9-4853ef476996",
   "metadata": {},
   "outputs": [],
   "source": [
    "def create_brochure(company_name, url):\n",
    "    response = openai.chat.completions.create(\n",
    "        model=MODEL,\n",
    "        messages=[\n",
    "            {\"role\":\"system\", \"content\":\"system_prompt\"},\n",
    "            {\"role\":\"user\", \"content\":get_brochure_user_prompt(company_name, url)}\n",
    "        ]\n",
    "    )\n",
    "    result = response.choices[0].message.content\n",
    "    display(Markdown(result))"
   ]
  },
  {
   "cell_type": "code",
   "execution_count": 54,
   "id": "ceba9b68-c446-4ef9-9b25-cfc6ad28d6cc",
   "metadata": {},
   "outputs": [
    {
     "name": "stdout",
     "output_type": "stream",
     "text": [
      "Found Links: {'links': [{'type': 'about page', 'url': 'https://www.latitudefinancial.com.au/about-us/'}, {'type': 'careers page', 'url': 'https://www.latitudefinancial.com.au/careers/'}]}\n"
     ]
    },
    {
     "data": {
      "text/markdown": [
       "```markdown\n",
       "# Latitude Financial Services Brochure\n",
       "\n",
       "**Webpage Title:** Credit Cards & Personal Loans Australia | Apply With Latitude\n",
       "\n",
       "## About Us\n",
       "Latitude Financial Services is a leading sales finance and consumer lending company that empowers people to shop and finance important moments in their lives. With over 2.1 million customers across Australia and New Zealand, we pride ourselves on being **Your Partners in Money**—offering responsible, fast, and customer-centered financial solutions.\n",
       "\n",
       "### Our Story\n",
       "Founded from a legacy of over a century in finance, Latitude has evolved through significant partnerships and acquisitions to become a trusted name in credit and loan solutions. Our roots go back to the 1920s and continue through our transition from GE to our current standing as a publically listed company on the Australian Stock Exchange.\n",
       "\n",
       "## Our Products\n",
       "We offer a variety of financial products tailored to meet your needs:\n",
       "\n",
       "- **Credit Cards**: Flexible credit options with exclusive rewards.\n",
       "- **Personal Loans**: Competitive rates and tailored repayment options.\n",
       "\n",
       "### Special Offers\n",
       "- **$200 Bonus Latitude Rewards**: Earn rewards when you spend $2000 on your Latitude 28º Mastercard during your first three months. *(T&Cs apply)*\n",
       "\n",
       "## Why Choose Latitude?\n",
       "- **Easy Application**: Quick and simple application process with a rapid response.\n",
       "- **Transparent Pricing**: Clear disclosure of interest rates and fees—no hidden costs.\n",
       "- **Personalized Service**: We assess applications individually and tailor offerings based on your circumstances.\n",
       "\n",
       "## Tools & Resources\n",
       "- **Calculators**: Use our personal loan repayment calculator and budget planner.\n",
       "- **Help Centre**: Access FAQs, support for vulnerabilities, and more.\n",
       "- **Digital Wallets**: Convenient payments with Apple Pay and Samsung Pay.\n",
       "\n",
       "## Corporate Responsibility\n",
       "At Latitude, we are committed to supporting our community and vulnerable customers. We believe in ethical lending and ensuring that our practices contribute positively to the lives of our customers.\n",
       "\n",
       "## Career Opportunities\n",
       "Join our passionate team driven by a commitment to better outcomes for people and the communities we serve. We value integrity, agility, and bold thinking.\n",
       "\n",
       "### Life @ Latitude\n",
       "At Latitude, you can be yourself, strive to be better, and help shape our future. *Explore our career opportunities today!*\n",
       "\n",
       "## Connect with Us\n",
       "For more information, visit our website or contact us for support.\n",
       "\n",
       "- **Website**: [Latitude Financial Services](https://www.latitudefinancial.com)\n",
       "- **Media Inquiries**: media.enquiries@latitudefinancial.com\n",
       "\n",
       "---\n",
       "\n",
       "Latitude Financial Services is here to be your go-to partner for all your financial needs, ensuring that your financial journey is as smooth and rewarding as possible. Whether you're looking to finance a new car, consolidate debts, or shop interest-free, Latitude is equipped to help you every step of the way.\n",
       "```"
      ],
      "text/plain": [
       "<IPython.core.display.Markdown object>"
      ]
     },
     "metadata": {},
     "output_type": "display_data"
    }
   ],
   "source": [
    "create_brochure(\"Latitude Financial Services\", \"https://www.latitudefinancial.com.au/\")"
   ]
  },
  {
   "cell_type": "code",
   "execution_count": null,
   "id": "a59c0b02-e2ab-4f91-bb11-8908448ed050",
   "metadata": {},
   "outputs": [],
   "source": []
  },
  {
   "cell_type": "code",
   "execution_count": null,
   "id": "0229e4fc-8fd8-448c-ac42-4134a0f0e7d8",
   "metadata": {},
   "outputs": [],
   "source": []
  }
 ],
 "metadata": {
  "kernelspec": {
   "display_name": "Python 3 (ipykernel)",
   "language": "python",
   "name": "python3"
  },
  "language_info": {
   "codemirror_mode": {
    "name": "ipython",
    "version": 3
   },
   "file_extension": ".py",
   "mimetype": "text/x-python",
   "name": "python",
   "nbconvert_exporter": "python",
   "pygments_lexer": "ipython3",
   "version": "3.11.13"
  }
 },
 "nbformat": 4,
 "nbformat_minor": 5
}
